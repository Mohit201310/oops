{
 "cells": [
  {
   "cell_type": "code",
   "execution_count": 1,
   "id": "85a9fa56-3d22-47cd-9e9b-264e8f8a2dde",
   "metadata": {},
   "outputs": [],
   "source": [
    "# class is a blueprint or code templeate for object creation\n",
    "# object : object is instance of object or belongs to object\n",
    "\n",
    "# properties of object  ------> attributes , instance variable\n",
    "# functionality of object --------> methods/function()"
   ]
  },
  {
   "cell_type": "code",
   "execution_count": 2,
   "id": "b19c999c-2f16-4cb1-89ce-85f62e171581",
   "metadata": {},
   "outputs": [],
   "source": [
    "class Emp:               # creating a class\n",
    "    pass         "
   ]
  },
  {
   "cell_type": "code",
   "execution_count": 3,
   "id": "6c35caa1-ccf6-4e90-9772-4805303ce964",
   "metadata": {},
   "outputs": [],
   "source": [
    "e = Emp()          # creating a abject i,e: e is object"
   ]
  },
  {
   "cell_type": "code",
   "execution_count": 4,
   "id": "1e09426d-8f72-4b37-a040-960c5730c093",
   "metadata": {},
   "outputs": [
    {
     "name": "stdout",
     "output_type": "stream",
     "text": [
      "<class '__main__.Emp'>\n"
     ]
    }
   ],
   "source": [
    "print(type(e))"
   ]
  },
  {
   "cell_type": "code",
   "execution_count": 5,
   "id": "1b747ebe-7bdb-406d-9917-1b86dca98f4f",
   "metadata": {},
   "outputs": [
    {
     "data": {
      "text/plain": [
       "140610536248592"
      ]
     },
     "execution_count": 5,
     "metadata": {},
     "output_type": "execute_result"
    }
   ],
   "source": [
    "id(e)"
   ]
  },
  {
   "cell_type": "code",
   "execution_count": 6,
   "id": "cf047685-7294-4d44-a348-fc452792b4fe",
   "metadata": {},
   "outputs": [],
   "source": [
    "class Robot:\n",
    "    \n",
    "    def introduce_self(self):\n",
    "        print(\" my name is \" + self.name)"
   ]
  },
  {
   "cell_type": "code",
   "execution_count": 7,
   "id": "e6a001b9-ffcb-4523-bea4-5ef51a585f01",
   "metadata": {},
   "outputs": [],
   "source": [
    "r1 = Robot()"
   ]
  },
  {
   "cell_type": "code",
   "execution_count": 8,
   "id": "7cad60fc-6af6-4e37-b113-7e6bcb5117aa",
   "metadata": {},
   "outputs": [],
   "source": [
    "r1.name = \"abc\""
   ]
  },
  {
   "cell_type": "code",
   "execution_count": 9,
   "id": "59bdbe79-a382-48d7-8613-a3f57549e45b",
   "metadata": {},
   "outputs": [
    {
     "name": "stdout",
     "output_type": "stream",
     "text": [
      " my name is abc\n"
     ]
    }
   ],
   "source": [
    "r1.introduce_self()"
   ]
  },
  {
   "cell_type": "code",
   "execution_count": 10,
   "id": "150a0709-50ec-4c2e-a1c8-b5ca437c4182",
   "metadata": {},
   "outputs": [],
   "source": [
    "r2 = Robot()"
   ]
  },
  {
   "cell_type": "code",
   "execution_count": 11,
   "id": "cd7376d9-c0a0-4630-ad8b-c1b1ae3e3979",
   "metadata": {},
   "outputs": [],
   "source": [
    "r2.name=\"xyz\""
   ]
  },
  {
   "cell_type": "code",
   "execution_count": 12,
   "id": "f4fdc3f0-7603-4d74-bf4e-caa45ae038f5",
   "metadata": {},
   "outputs": [
    {
     "name": "stdout",
     "output_type": "stream",
     "text": [
      " my name is xyz\n"
     ]
    }
   ],
   "source": [
    "r2.introduce_self()"
   ]
  },
  {
   "cell_type": "code",
   "execution_count": 13,
   "id": "6c370e37-0179-4dcd-960b-68a634c2c721",
   "metadata": {},
   "outputs": [
    {
     "name": "stdout",
     "output_type": "stream",
     "text": [
      "['__class__', '__delattr__', '__dict__', '__dir__', '__doc__', '__eq__', '__format__', '__ge__', '__getattribute__', '__gt__', '__hash__', '__init__', '__init_subclass__', '__le__', '__lt__', '__module__', '__ne__', '__new__', '__reduce__', '__reduce_ex__', '__repr__', '__setattr__', '__sizeof__', '__str__', '__subclasshook__', '__weakref__', 'introduce_self', 'name']\n"
     ]
    }
   ],
   "source": [
    "print(dir(r1))"
   ]
  },
  {
   "cell_type": "code",
   "execution_count": 16,
   "id": "5aece904-44b1-4269-99ec-3a570eec3c10",
   "metadata": {},
   "outputs": [],
   "source": [
    "r3 = Robot()"
   ]
  },
  {
   "cell_type": "code",
   "execution_count": 18,
   "id": "aabac671-c9f9-482d-99b5-2cab6dfed306",
   "metadata": {},
   "outputs": [
    {
     "name": "stdout",
     "output_type": "stream",
     "text": [
      " my name is mohit\n"
     ]
    }
   ],
   "source": [
    "r3.name = \"mohit\"\n",
    "r3.introduce_self()"
   ]
  },
  {
   "cell_type": "code",
   "execution_count": 19,
   "id": "1bc011fe-037d-407f-9150-692843be6dd2",
   "metadata": {},
   "outputs": [],
   "source": [
    "# The disadvantages is when we have to create a new object so again and again write (.name). \n",
    "# so for this conclusion , constuctor concept are in the picture.wuith the help of constructor initiallize some attribute in the class."
   ]
  },
  {
   "cell_type": "code",
   "execution_count": 21,
   "id": "f696248e-f0ad-4bc3-ab49-8da28d2d58da",
   "metadata": {},
   "outputs": [],
   "source": [
    "class Robot:\n",
    "    \n",
    "    def __init__(self,name,color,weight):        # __init__ is a special method used for  initailing the attribute to the class\n",
    "        self.name=name\n",
    "        self.color=color\n",
    "        self.weight=weight\n",
    "    \n",
    "    def introduce_self(self):\n",
    "        print(\" my name is \" + self.name)\n",
    "    "
   ]
  },
  {
   "cell_type": "code",
   "execution_count": 22,
   "id": "2c3bea98-65c5-44d5-b295-26a07ead94e9",
   "metadata": {},
   "outputs": [],
   "source": [
    "r1 = Robot(\"abc\",\"red\",30)"
   ]
  },
  {
   "cell_type": "code",
   "execution_count": 26,
   "id": "dbdd0c2e-01d8-44d7-84f1-e0096550f884",
   "metadata": {},
   "outputs": [
    {
     "data": {
      "text/plain": [
       "'red'"
      ]
     },
     "execution_count": 26,
     "metadata": {},
     "output_type": "execute_result"
    }
   ],
   "source": [
    "r1.color"
   ]
  },
  {
   "cell_type": "code",
   "execution_count": 27,
   "id": "68e4ed20-1225-49e9-924f-6f775d7437b6",
   "metadata": {},
   "outputs": [
    {
     "data": {
      "text/plain": [
       "'abc'"
      ]
     },
     "execution_count": 27,
     "metadata": {},
     "output_type": "execute_result"
    }
   ],
   "source": [
    "r1.name"
   ]
  },
  {
   "cell_type": "code",
   "execution_count": 23,
   "id": "900381e1-dbac-41de-a107-9d06a5046e19",
   "metadata": {},
   "outputs": [],
   "source": [
    "r2 = Robot(\"xyz\",\"blue\",40)"
   ]
  },
  {
   "cell_type": "code",
   "execution_count": 28,
   "id": "f8b32030-af6f-4d94-8900-3f77f90dc088",
   "metadata": {},
   "outputs": [
    {
     "name": "stdout",
     "output_type": "stream",
     "text": [
      " my name is xyz\n"
     ]
    }
   ],
   "source": [
    "r2.introduce_self()"
   ]
  },
  {
   "cell_type": "code",
   "execution_count": 29,
   "id": "ac20b610-e97c-436d-acfe-21a9f8a8b419",
   "metadata": {},
   "outputs": [
    {
     "data": {
      "text/plain": [
       "40"
      ]
     },
     "execution_count": 29,
     "metadata": {},
     "output_type": "execute_result"
    }
   ],
   "source": [
    "r2.weight"
   ]
  },
  {
   "cell_type": "code",
   "execution_count": 31,
   "id": "3de23c5a-d421-4e80-a69f-5f4343909b5e",
   "metadata": {},
   "outputs": [],
   "source": [
    "class person:\n",
    "    \n",
    "    def __init__(self,name,gender,profession):\n",
    "        self.name=name\n",
    "        self.gender=gender\n",
    "        self.profession=profession\n",
    "        \n",
    "        \n",
    "    def show(self):\n",
    "        print(\"name\",self.name,\"gender\",self.gender,\"profession\",self.profession)\n",
    "        \n",
    "    def work(self):\n",
    "        print(self.name,\"working as a\",self.profession)"
   ]
  },
  {
   "cell_type": "code",
   "execution_count": 32,
   "id": "b004a517-7408-43fd-9a35-91bdc32b8ebd",
   "metadata": {},
   "outputs": [],
   "source": [
    "o1 = person(\"mohit\",\"male\",\"programmer\")"
   ]
  },
  {
   "cell_type": "code",
   "execution_count": 33,
   "id": "9f324fcb-663a-4092-8427-0a51f3fa5826",
   "metadata": {},
   "outputs": [
    {
     "name": "stdout",
     "output_type": "stream",
     "text": [
      "name mohit gender male profession programmer\n"
     ]
    }
   ],
   "source": [
    "o1.show()"
   ]
  },
  {
   "cell_type": "code",
   "execution_count": 35,
   "id": "fc5acf59-953b-4938-9912-07a262322f58",
   "metadata": {},
   "outputs": [
    {
     "name": "stdout",
     "output_type": "stream",
     "text": [
      "mohit working as a programmer\n"
     ]
    }
   ],
   "source": [
    "o1.work()"
   ]
  },
  {
   "cell_type": "code",
   "execution_count": 36,
   "id": "68686cd5-f11f-4456-b175-808bcb128ace",
   "metadata": {},
   "outputs": [
    {
     "data": {
      "text/plain": [
       "'programmer'"
      ]
     },
     "execution_count": 36,
     "metadata": {},
     "output_type": "execute_result"
    }
   ],
   "source": [
    "o1.profession"
   ]
  },
  {
   "cell_type": "code",
   "execution_count": 37,
   "id": "ee147e76-86de-4da3-9564-5e166c9856e2",
   "metadata": {},
   "outputs": [],
   "source": [
    "o1.name=\"yadav\""
   ]
  },
  {
   "cell_type": "code",
   "execution_count": 38,
   "id": "eb1d8b78-8dbb-41ae-9119-f42f62a50eff",
   "metadata": {},
   "outputs": [
    {
     "data": {
      "text/plain": [
       "'yadav'"
      ]
     },
     "execution_count": 38,
     "metadata": {},
     "output_type": "execute_result"
    }
   ],
   "source": [
    "o1.name"
   ]
  },
  {
   "cell_type": "code",
   "execution_count": 40,
   "id": "4d26a817-476b-4d81-b5f0-1065f23ca98c",
   "metadata": {},
   "outputs": [
    {
     "name": "stdout",
     "output_type": "stream",
     "text": [
      "yadav working as a programmer\n"
     ]
    }
   ],
   "source": [
    "o1.work()"
   ]
  },
  {
   "cell_type": "code",
   "execution_count": 41,
   "id": "af366752-63a9-45ed-9201-7159f8f4929b",
   "metadata": {},
   "outputs": [],
   "source": [
    "class Emp:\n",
    "    \n",
    "    def __init__(self):\n",
    "        print(id(self))\n",
    "        self.age=25\n",
    "        self.name=\"mohit\"\n",
    "        self.salary=300000\n",
    "    "
   ]
  },
  {
   "cell_type": "code",
   "execution_count": 42,
   "id": "b8263973-2fe8-4d54-a373-052a367a162b",
   "metadata": {},
   "outputs": [
    {
     "name": "stdout",
     "output_type": "stream",
     "text": [
      "140609960730320\n"
     ]
    }
   ],
   "source": [
    "e1=Emp()"
   ]
  },
  {
   "cell_type": "code",
   "execution_count": 46,
   "id": "fb2c543d-3418-4660-ac75-ea933d7ee532",
   "metadata": {},
   "outputs": [
    {
     "data": {
      "text/plain": [
       "300000"
      ]
     },
     "execution_count": 46,
     "metadata": {},
     "output_type": "execute_result"
    }
   ],
   "source": [
    "e1.salary"
   ]
  },
  {
   "cell_type": "code",
   "execution_count": 47,
   "id": "cd41f85d-75a9-46b3-bdc3-0b38b68e014d",
   "metadata": {},
   "outputs": [],
   "source": [
    "e1.weight = 35"
   ]
  },
  {
   "cell_type": "code",
   "execution_count": 48,
   "id": "42f64a34-5ce1-4c48-8cf7-ecbc426c0e11",
   "metadata": {},
   "outputs": [
    {
     "data": {
      "text/plain": [
       "35"
      ]
     },
     "execution_count": 48,
     "metadata": {},
     "output_type": "execute_result"
    }
   ],
   "source": [
    "e1.weight"
   ]
  },
  {
   "cell_type": "code",
   "execution_count": 49,
   "id": "823b3707-20f4-4dfd-a94e-a8b89137cb46",
   "metadata": {},
   "outputs": [
    {
     "name": "stdout",
     "output_type": "stream",
     "text": [
      "44.0\n",
      "154.0\n"
     ]
    }
   ],
   "source": [
    "class circle:\n",
    "    \n",
    "    def __init__(self, radius):\n",
    "        self.radius=radius\n",
    "        \n",
    "    def Circumference(self):\n",
    "        return 2*(22/7)* self.radius\n",
    "    \n",
    "    def Area(self):\n",
    "        return (22/7)*self.radius*self.radius\n",
    "    \n",
    "r = circle(7)\n",
    "print(r.Circumference())\n",
    "print(r.Area())"
   ]
  },
  {
   "cell_type": "code",
   "execution_count": 53,
   "id": "807af1d4-8490-41f1-9f7d-b0833b9e4ba9",
   "metadata": {},
   "outputs": [],
   "source": [
    "\n",
    "# 1 . create class Bankaccount\n",
    "# 2. create constructor accountnumber, name , balance\n",
    "# 3. deposit()\n",
    "# 4. withdrawal\n",
    "# 5. display account detail"
   ]
  },
  {
   "cell_type": "code",
   "execution_count": 74,
   "id": "d69a97e0-4571-4ef0-a5af-9aa448cc7212",
   "metadata": {},
   "outputs": [],
   "source": [
    "class Bankaccount:\n",
    "    \n",
    "    def __init__(self,account_number, name, balance):\n",
    "        self.account_number=account_number\n",
    "        self.name=name\n",
    "        self.balance=balance\n",
    "        \n",
    "    def deposite(self, d_amount):\n",
    "        self.d_amount = d_amount\n",
    "        self.balance += self.d_amount\n",
    "        print(self.d_amount, \"is credited into your bank account\")\n",
    "        print(f\"your current balance is {self.balance}\")\n",
    "        \n",
    "    def withdrawal(self,w_amount):\n",
    "        self.w_amount = w_amount\n",
    "        self.balance -= self.w_amount\n",
    "        print(self.w_amount, \"is debited from your account\")\n",
    "        print(f\"your current balance is {self.balance}\")\n",
    "        \n",
    "    \n",
    "    def account_details(self):\n",
    "        print(f\"your name is {self.name}\")\n",
    "        print(f\" your account number is {self.account_number}\")\n",
    "        print(f\" your balance is {self.balance}\")\n",
    "        \n",
    "        "
   ]
  },
  {
   "cell_type": "code",
   "execution_count": 75,
   "id": "fda4fd4b-8092-48ab-a23d-2bbca667222f",
   "metadata": {},
   "outputs": [],
   "source": [
    "ba=Bankaccount(2202,\"mohit\",3000)"
   ]
  },
  {
   "cell_type": "code",
   "execution_count": 76,
   "id": "aac0805f-93ef-45d5-9881-9c98ac147c49",
   "metadata": {},
   "outputs": [
    {
     "name": "stdout",
     "output_type": "stream",
     "text": [
      "your name is mohit\n",
      " your account number is 2202\n",
      " your balance is 3000\n"
     ]
    }
   ],
   "source": [
    " ba.account_details()"
   ]
  },
  {
   "cell_type": "code",
   "execution_count": 77,
   "id": "5e7e9b70-9082-4cb4-b2a0-001f31004b27",
   "metadata": {},
   "outputs": [
    {
     "data": {
      "text/plain": [
       "3000"
      ]
     },
     "execution_count": 77,
     "metadata": {},
     "output_type": "execute_result"
    }
   ],
   "source": [
    "ba.balance"
   ]
  },
  {
   "cell_type": "code",
   "execution_count": null,
   "id": "5c5b961c-92c0-4239-8254-f4aa368e5468",
   "metadata": {},
   "outputs": [],
   "source": []
  }
 ],
 "metadata": {
  "kernelspec": {
   "display_name": "Python 3 (ipykernel)",
   "language": "python",
   "name": "python3"
  },
  "language_info": {
   "codemirror_mode": {
    "name": "ipython",
    "version": 3
   },
   "file_extension": ".py",
   "mimetype": "text/x-python",
   "name": "python",
   "nbconvert_exporter": "python",
   "pygments_lexer": "ipython3",
   "version": "3.10.6"
  }
 },
 "nbformat": 4,
 "nbformat_minor": 5
}
